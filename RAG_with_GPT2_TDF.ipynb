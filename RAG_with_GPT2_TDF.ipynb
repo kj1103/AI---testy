{
  "nbformat": 4,
  "nbformat_minor": 0,
  "metadata": {
    "colab": {
      "provenance": [],
      "authorship_tag": "ABX9TyOOIW5zFEi99jofIZC10bKn",
      "include_colab_link": true
    },
    "kernelspec": {
      "name": "python3",
      "display_name": "Python 3"
    },
    "language_info": {
      "name": "python"
    }
  },
  "cells": [
    {
      "cell_type": "markdown",
      "metadata": {
        "id": "view-in-github",
        "colab_type": "text"
      },
      "source": [
        "<a href=\"https://colab.research.google.com/github/kj1103/cwiczenia/blob/main/RAG_with_GPT2_TDF.ipynb\" target=\"_parent\"><img src=\"https://colab.research.google.com/assets/colab-badge.svg\" alt=\"Open In Colab\"/></a>"
      ]
    },
    {
      "cell_type": "code",
      "execution_count": 41,
      "metadata": {
        "colab": {
          "base_uri": "https://localhost:8080/"
        },
        "id": "fcw8o9SOwv0G",
        "outputId": "d9b4d10a-281a-4e48-bc97-04cf6e23b0fb"
      },
      "outputs": [
        {
          "output_type": "stream",
          "name": "stdout",
          "text": [
            "Requirement already satisfied: faiss-cpu in /usr/local/lib/python3.10/dist-packages (1.9.0.post1)\n",
            "Requirement already satisfied: numpy<3.0,>=1.25.0 in /usr/local/lib/python3.10/dist-packages (from faiss-cpu) (1.26.4)\n",
            "Requirement already satisfied: packaging in /usr/local/lib/python3.10/dist-packages (from faiss-cpu) (24.2)\n"
          ]
        }
      ],
      "source": [
        "## instalki\n",
        "!pip install faiss-cpu\n",
        "import faiss\n",
        "import numpy as np\n",
        "import torch\n",
        "from transformers import AutoTokenizer, AutoModel\n",
        "from transformers import AutoModelForCausalLM"
      ]
    },
    {
      "cell_type": "code",
      "source": [
        "import re\n",
        "\n",
        "# Tekst źródłowy\n",
        "text = \"\"\"\n",
        "The Tour de France 2024 marks the 111th edition of the world's most prestigious cycling race. It will commence on June 29, 2024, inrace will conclude, as tradition dictates, on the iconic Champs-Élysées in Paris on July 21, 2024.\n",
        "\n",
        "The 2024 Tour de France will feature 21 stages, covering a total distance of approximately 3,500 kilometers. The route is designed to challenge riders with a mix of flat stages favoring sprinters, grueling mountain climbs testing endurance, and individual time trials demanding precision and speed. This year’s race highlights include demanding stages in the Alps and the Pyrenees, where riders will tackle legendary ascents such as the Col du Tourmalet and Alpe d’Huez.\n",
        "\n",
        "Top cycling teams from around the globe will compete in the event, with cyclists vying for various prestigious jerseys. The yellow jersey (maillot jaune) is awarded to the overall leader of the general classification and symbolizes the ultimate achievement in professional cycling. The green jersey is contested by the best sprinters, the polka-dot jersey recognizes the king of the mountains, and the white jersey is reserved for the best young rider under the age of 25.\n",
        "\n",
        "In addition to individual glory, the team classification remains a critical component of the race, highlighting collective strength and strategy. Fans worldwide eagerly anticipate dramatic moments of determination, teamwork, and unexpected surprises that are hallmarks of the Tour de France.\n",
        "\n",
        "The 2024 edition also pays homage to the centenary of the Col du Galibier’s inclusion in the race, celebrating its historical significance as one of the most challenging and revered climbs in the Tour’s history.\n",
        "\n",
        "With its mix of tradition, innovation, and global participation, the Tour de France 2024 promises to deliver another unforgettable chapter in the storied legacy of this legendary race.\n",
        "\n",
        "\"\"\"\n",
        "\n",
        "# Dzielenie tekstu na zdania\n",
        "sentences = re.split(r'(?<!\\w\\.\\w.)(?<![A-Z][a-z]\\.)(?<=\\.|\\?)\\s', text.strip())\n",
        "\n",
        "# Konwersja na listę dokumentów\n",
        "documents = [sentence.strip() for sentence in sentences if sentence.strip()]\n",
        "\n",
        "# Wyświetlenie wyników\n",
        "print(\"documents = [\")\n",
        "for doc in documents:\n",
        "    print(f'    \"{doc}\",')\n",
        "print(\"]\")"
      ],
      "metadata": {
        "colab": {
          "base_uri": "https://localhost:8080/"
        },
        "id": "HVv_J-yvwzS4",
        "outputId": "8365b9fe-47f4-4713-ee77-34b820a029b2"
      },
      "execution_count": 52,
      "outputs": [
        {
          "output_type": "stream",
          "name": "stdout",
          "text": [
            "documents = [\n",
            "    \"The Tour de France 2024 marks the 111th edition of the world's most prestigious cycling race.\",\n",
            "    \"It will commence on June 29, 2024, inrace will conclude, as tradition dictates, on the iconic Champs-Élysées in Paris on July 21, 2024.\",\n",
            "    \"The 2024 Tour de France will feature 21 stages, covering a total distance of approximately 3,500 kilometers.\",\n",
            "    \"The route is designed to challenge riders with a mix of flat stages favoring sprinters, grueling mountain climbs testing endurance, and individual time trials demanding precision and speed.\",\n",
            "    \"This year’s race highlights include demanding stages in the Alps and the Pyrenees, where riders will tackle legendary ascents such as the Col du Tourmalet and Alpe d’Huez.\",\n",
            "    \"Top cycling teams from around the globe will compete in the event, with cyclists vying for various prestigious jerseys.\",\n",
            "    \"The yellow jersey (maillot jaune) is awarded to the overall leader of the general classification and symbolizes the ultimate achievement in professional cycling.\",\n",
            "    \"The green jersey is contested by the best sprinters, the polka-dot jersey recognizes the king of the mountains, and the white jersey is reserved for the best young rider under the age of 25.\",\n",
            "    \"In addition to individual glory, the team classification remains a critical component of the race, highlighting collective strength and strategy.\",\n",
            "    \"Fans worldwide eagerly anticipate dramatic moments of determination, teamwork, and unexpected surprises that are hallmarks of the Tour de France.\",\n",
            "    \"The 2024 edition also pays homage to the centenary of the Col du Galibier’s inclusion in the race, celebrating its historical significance as one of the most challenging and revered climbs in the Tour’s history.\",\n",
            "    \"With its mix of tradition, innovation, and global participation, the Tour de France 2024 promises to deliver another unforgettable chapter in the storied legacy of this legendary race.\",\n",
            "]\n"
          ]
        }
      ]
    },
    {
      "cell_type": "code",
      "source": [
        "tokenizer = AutoTokenizer.from_pretrained(\"sentence-transformers/paraphrase-MiniLM-L6-v2\")\n",
        "model = AutoModel.from_pretrained(\"sentence-transformers/paraphrase-MiniLM-L6-v2\")\n",
        "gen_tokenizer = AutoTokenizer.from_pretrained(\"gpt2\")\n",
        "gen_model = AutoModelForCausalLM.from_pretrained(\"gpt2\")\n",
        "gen_tokenizer.pad_token = gen_tokenizer.eos_token\n"
      ],
      "metadata": {
        "id": "pA5tyj1637BZ"
      },
      "execution_count": 53,
      "outputs": []
    },
    {
      "cell_type": "code",
      "source": [
        "## trzeba określić index\n",
        "\n",
        "# funkcja przekształcająca tekst na osadzenia\n",
        "def embed_text(text, tokenizer, model):\n",
        "    inputs = tokenizer(text, return_tensors=\"pt\", padding=True, truncation=True)\n",
        "    with torch.no_grad():\n",
        "        embeddings = model(**inputs).last_hidden_state.mean(dim=1)  # Uśrednienie wektorów\n",
        "    return embeddings\n",
        "\n",
        "# przechowywanie osadzeń dokumentów\n",
        "document_embeddings = []\n",
        "for doc in documents:\n",
        "    doc_embedding = embed_text(doc, tokenizer, model)\n",
        "    document_embeddings.append(doc_embedding)\n",
        "\n",
        "# lączenie osadzeń w jedną macierz\n",
        "document_embeddings = torch.cat(document_embeddings).cpu().numpy()\n",
        "\n",
        "# tworzenie indeksu FAISS\n",
        "index = faiss.IndexFlatL2(document_embeddings.shape[1])  # Tworzymy indeks oparty na odległości L2\n",
        "index.add(document_embeddings)  # Dodajemy osadzenia do indeksu"
      ],
      "metadata": {
        "id": "Y-a3CekB7xIJ"
      },
      "execution_count": 54,
      "outputs": []
    },
    {
      "cell_type": "code",
      "source": [
        "queries = [\"Where and when does the Tour de France 2024 begin and end?\",\n",
        "           \"What types of stages are included in the 2024 Tour de France, and which legendary climbs are highlighted?\",\n",
        "           \"What are the different jersey classifications in the Tour de France, and what do they represent?\"]"
      ],
      "metadata": {
        "id": "ZIZ6N6HIw2Go"
      },
      "execution_count": 55,
      "outputs": []
    },
    {
      "cell_type": "code",
      "source": [
        "## czy dana odległość jest istotna na podstawie porównania z wartością progową\n",
        "## Wartość progowa, która określa, powyżej której odległość uznaje się za nieistotną (jeśli nie poda, przyjmuje 40)\n",
        "def is_relevant(distance , threshold =40):\n",
        "  return distance < threshold"
      ],
      "metadata": {
        "id": "3hC8gUOFyLii"
      },
      "execution_count": 65,
      "outputs": []
    },
    {
      "cell_type": "code",
      "source": [
        "def retrieve(query, tokenizer, model, index, documents, top_k=3):\n",
        "    query_embedding = embed_text(query, tokenizer, model)\n",
        "    distances, indices = index.search(query_embedding, top_k)\n",
        "    return [documents[i] for i in indices[0]], distances[0]"
      ],
      "metadata": {
        "id": "kLB3lBC28wm5"
      },
      "execution_count": 76,
      "outputs": []
    },
    {
      "cell_type": "code",
      "source": [
        "#Na początku wyszukuje najbardziej trafne dokumenty związane z zapytaniem,  filtruje te dokumenty, wybierając tylko te, które są wystarczająco trafne.\n",
        "#Tworzy z nich kontekst i na końcu generuje odpowiedź na podstawie tego kontekstu\n",
        "\n",
        "def rag(query, retrieval_tokenizer, retrieval_model, retrival_index, gen_model, gen_tokenizer, documents, top_k):\n",
        "  # wyszukiwanie dokumentów i distance\n",
        "  retrieved_docs, distances = retrieve(query,\n",
        "                                       retrieval_tokenizer,\n",
        "                                       retrieval_model,\n",
        "                                       retrival_index,\n",
        "                                       documents,\n",
        "                                       top_k)\n",
        "\n",
        "  # stosujemy filtr, który wybiera tylko te dokumenty, których odległość (lub podobieństwo) jest mniejsza niż 40, co oznacza, że są one wystarczająco trafne w kontekście zapytania.\n",
        "  relevant_docs = [doc for doc, distance in zip(retrieved_docs, distances) if is_relevant(distance, 40)]\n",
        "\n",
        "  # jeśli żaden dokument nie spełnia kryteriów trafności (nie ma żadnego dokumentu w relevant_docs), funkcja zwraca komunikat, że brak jest istotnych informacji\n",
        "  if not relevant_docs:\n",
        "    return \"brak istotnych informacji\"\n",
        "\n",
        "  # kontekst\n",
        "  context = \" \".join(relevant_docs)\n",
        "\n",
        "  # generuje odpowiedź na podstawie kontekstu i pytania\n",
        "  generated_answer = generate_text(context, query, gen_model, gen_tokenizer)\n",
        "\n",
        "  return generated_answer"
      ],
      "metadata": {
        "id": "5sMLh0I70BfI"
      },
      "execution_count": 77,
      "outputs": []
    },
    {
      "cell_type": "code",
      "source": [
        "##Kod przetwarza każde zapytanie z listy queries, wykonując dla niego wyszukiwanie w zbiorze dokumentów i generuje odpowiedź na podstawie dokumentów.\n",
        "## tokenizer: dzieli tekst na tokeny, czyli mniejsze jednostki, takie jak słowa czy części słów\n",
        "## top_k=3 - określa ile dokumentów będzie branych, narzucono 3\n",
        "for query in queries:\n",
        "  answer = rag(query,\n",
        "               tokenizer,\n",
        "               model, index,\n",
        "               gen_model,\n",
        "               gen_tokenizer,\n",
        "               documents,\n",
        "               3)\n",
        "\n",
        "  print(f\"Query: {query}\\nAnswer: {answer}\\n\")"
      ],
      "metadata": {
        "colab": {
          "base_uri": "https://localhost:8080/"
        },
        "id": "38r1uw0cxAIY",
        "outputId": "2294782a-b3a4-470e-e01e-9fe825a80c55"
      },
      "execution_count": 78,
      "outputs": [
        {
          "output_type": "stream",
          "name": "stdout",
          "text": [
            "Query: Where and when does the Tour de France 2024 begin and end?\n",
            "Answer: Context With its mix of tradition, innovation, and global participation, the Tour de France 2024 promises to deliver another unforgettable chapter in the storied legacy of this legendary race. It will commence on June 29, 2024, inrace will conclude, as tradition dictates, on the iconic Champs-Élysées in Paris on July 21, 2024. The 2024 Tour de France will feature 21 stages, covering a total distance of approximately 3,500 kilometers.\n",
            "Question: Where and when does the Tour de France 2024 begin and end?\n",
            "Answer: The Tour de France 2024 will begin on June 29, 2024, in race will conclude, as tradition dictates, on the iconic Champs-Élysées in Paris on July 21, 2024. The 2024 Tour de France will feature 21 stages, covering a total distance of approximately 3,500 kilometers.\n",
            "Question: What is the Tour de France 2024 schedule?\n",
            "Answer: The Tour de France 2024 schedule will be announced on June 29, 2024\n",
            "\n",
            "Query: What types of stages are included in the 2024 Tour de France, and which legendary climbs are highlighted?\n",
            "Answer: Context This year’s race highlights include demanding stages in the Alps and the Pyrenees, where riders will tackle legendary ascents such as the Col du Tourmalet and Alpe d’Huez. With its mix of tradition, innovation, and global participation, the Tour de France 2024 promises to deliver another unforgettable chapter in the storied legacy of this legendary race. The 2024 Tour de France will feature 21 stages, covering a total distance of approximately 3,500 kilometers.\n",
            "Question: What types of stages are included in the 2024 Tour de France, and which legendary climbs are highlighted?\n",
            "Answer: The Tour de France 2024 will feature 21 stages, covering a total distance of approximately 3,500 kilometers.\n",
            "Question: What types of climbs are included in the 2024 Tour de France, and which legendary climbs are highlighted?\n",
            "Answer: The Tour de France 2024 will feature 21 stages, covering a total distance of approximately 3,500 kilometers.\n",
            "Question: What types of climbs are\n",
            "\n",
            "Query: What are the different jersey classifications in the Tour de France, and what do they represent?\n",
            "Answer: Context The green jersey is contested by the best sprinters, the polka-dot jersey recognizes the king of the mountains, and the white jersey is reserved for the best young rider under the age of 25. With its mix of tradition, innovation, and global participation, the Tour de France 2024 promises to deliver another unforgettable chapter in the storied legacy of this legendary race. The yellow jersey (maillot jaune) is awarded to the overall leader of the general classification and symbolizes the ultimate achievement in professional cycling.\n",
            "Question: What are the different jersey classifications in the Tour de France, and what do they represent?\n",
            "Answer: The yellow jersey is the most prestigious of the three jersey classes. The yellow jersey is the most prestigious of the three jersey classes. The yellow jersey is the most prestigious of the three jersey classes. The yellow jersey is the most prestigious of the three jersey classes. The yellow jersey is the most prestigious of the three jersey classes. The yellow jersey is the\n",
            "\n"
          ]
        }
      ]
    }
  ]
}