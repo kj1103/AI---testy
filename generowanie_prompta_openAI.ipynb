{
  "nbformat": 4,
  "nbformat_minor": 0,
  "metadata": {
    "colab": {
      "provenance": [],
      "authorship_tag": "ABX9TyPg8zEIWscZ2k/jtYAU4rqZ",
      "include_colab_link": true
    },
    "kernelspec": {
      "name": "python3",
      "display_name": "Python 3"
    },
    "language_info": {
      "name": "python"
    }
  },
  "cells": [
    {
      "cell_type": "markdown",
      "metadata": {
        "id": "view-in-github",
        "colab_type": "text"
      },
      "source": [
        "<a href=\"https://colab.research.google.com/github/kj1103/AI---testy/blob/main/generowanie_prompta_openAI.ipynb\" target=\"_parent\"><img src=\"https://colab.research.google.com/assets/colab-badge.svg\" alt=\"Open In Colab\"/></a>"
      ]
    },
    {
      "cell_type": "code",
      "source": [
        "!pip install openai"
      ],
      "metadata": {
        "colab": {
          "base_uri": "https://localhost:8080/"
        },
        "id": "c5-X3M3zqZTG",
        "outputId": "95fe9e2e-61d5-4539-b150-c7f719517131"
      },
      "execution_count": 2,
      "outputs": [
        {
          "output_type": "stream",
          "name": "stdout",
          "text": [
            "Requirement already satisfied: openai in /usr/local/lib/python3.10/dist-packages (1.57.4)\n",
            "Requirement already satisfied: anyio<5,>=3.5.0 in /usr/local/lib/python3.10/dist-packages (from openai) (3.7.1)\n",
            "Requirement already satisfied: distro<2,>=1.7.0 in /usr/local/lib/python3.10/dist-packages (from openai) (1.9.0)\n",
            "Requirement already satisfied: httpx<1,>=0.23.0 in /usr/local/lib/python3.10/dist-packages (from openai) (0.28.1)\n",
            "Requirement already satisfied: jiter<1,>=0.4.0 in /usr/local/lib/python3.10/dist-packages (from openai) (0.8.2)\n",
            "Requirement already satisfied: pydantic<3,>=1.9.0 in /usr/local/lib/python3.10/dist-packages (from openai) (2.10.3)\n",
            "Requirement already satisfied: sniffio in /usr/local/lib/python3.10/dist-packages (from openai) (1.3.1)\n",
            "Requirement already satisfied: tqdm>4 in /usr/local/lib/python3.10/dist-packages (from openai) (4.67.1)\n",
            "Requirement already satisfied: typing-extensions<5,>=4.11 in /usr/local/lib/python3.10/dist-packages (from openai) (4.12.2)\n",
            "Requirement already satisfied: idna>=2.8 in /usr/local/lib/python3.10/dist-packages (from anyio<5,>=3.5.0->openai) (3.10)\n",
            "Requirement already satisfied: exceptiongroup in /usr/local/lib/python3.10/dist-packages (from anyio<5,>=3.5.0->openai) (1.2.2)\n",
            "Requirement already satisfied: certifi in /usr/local/lib/python3.10/dist-packages (from httpx<1,>=0.23.0->openai) (2024.12.14)\n",
            "Requirement already satisfied: httpcore==1.* in /usr/local/lib/python3.10/dist-packages (from httpx<1,>=0.23.0->openai) (1.0.7)\n",
            "Requirement already satisfied: h11<0.15,>=0.13 in /usr/local/lib/python3.10/dist-packages (from httpcore==1.*->httpx<1,>=0.23.0->openai) (0.14.0)\n",
            "Requirement already satisfied: annotated-types>=0.6.0 in /usr/local/lib/python3.10/dist-packages (from pydantic<3,>=1.9.0->openai) (0.7.0)\n",
            "Requirement already satisfied: pydantic-core==2.27.1 in /usr/local/lib/python3.10/dist-packages (from pydantic<3,>=1.9.0->openai) (2.27.1)\n"
          ]
        }
      ]
    },
    {
      "cell_type": "code",
      "execution_count": 1,
      "metadata": {
        "id": "MNO6tQUhqFEa"
      },
      "outputs": [],
      "source": [
        "from google.colab import userdata\n",
        "api_key = userdata.get('open_ai')\n",
        "\n",
        "from openai import OpenAI\n",
        "from IPython.display import Markdown, display\n",
        "MODEL = \"gpt-4o\"\n",
        "client = OpenAI(api_key=api_key)\n"
      ]
    },
    {
      "cell_type": "code",
      "source": [
        "system_prompt = \"You are boss\"\n",
        "system_prompt2 = \"You are employee\"\n",
        "\n",
        "# Define the user prompt\n",
        "user_prompt = \"professional and empathetic speach like a boss dismissing an employee\""
      ],
      "metadata": {
        "id": "7IDKT9eQqGLM"
      },
      "execution_count": 10,
      "outputs": []
    },
    {
      "cell_type": "code",
      "source": [
        "response = client.chat.completions.create(\n",
        "    model=MODEL,\n",
        "    messages=[\n",
        "        {\"role\": \"system\", \"content\": system_prompt2},\n",
        "        {\"role\": \"user\", \"content\": user_prompt}\n",
        "    ],\n",
        "    temperature = 1.2, # Controls randomness (higher values = more creative)\n",
        "    top_p = 1.0, # Controls diversity (1.0 means all tokens are considered)\n",
        "    presence_penalty= 0,\n",
        "    frequency_penalty = 0\n",
        ")\n",
        "\n",
        "# Display the output\n",
        "display(Markdown(response.choices[0].message.content))"
      ],
      "metadata": {
        "colab": {
          "base_uri": "https://localhost:8080/",
          "height": 521
        },
        "id": "0w7mBoVxrI3v",
        "outputId": "90e45773-feb6-4ee8-b4d6-c92ceeca8f0f"
      },
      "execution_count": 11,
      "outputs": [
        {
          "output_type": "display_data",
          "data": {
            "text/plain": [
              "<IPython.core.display.Markdown object>"
            ],
            "text/markdown": "Subject: Private & Confidential: Important Discussion\n\n---\n\nDear [Employee's Name],\n\nI hope this message finds you well. I wanted to take a moment to sincerely thank you for taking the time to meet with me today. It's a conversation that brings with it a heavy heart, as it involves a matter that's never easy to discuss—your employment with [Company Name].\n\nFirstly, I want to recognize and express my genuine gratitude for your contributions and efforts throughout your time here. The skills and dedication you have demonstrated revealed your strength and character, and there has been immense value placed on your work. Thank you for your commitment and the positive impact you've had on both the team and numerous projects.\n\nHowever, after careful consideration and in alignment with our current organizational needs, I regret to inform you that we need to part ways. This decision is by no means a reflection of your individual capability but rather one that stems from a broader restructuring effort to steer the company towards its future objectives.\n\nI fully appreciate that this news can be disheartening and comes with significant considerations for you both professionally and personally. Please know that the decision was not made lightly and every effort was taken to explore all possible alternatives before reaching this difficult conclusion.\n\nTo help support you through this transition, we are providing you with a comprehensive severance package, which includes [details of any assistance, counselling, or outplacement services]. Our HR department is on hand to help answer any questions and work with you throughout this process.\n\nI genuinely wish you success and fulfillment as you move forward. You have much to offer and I have no doubt that you will bring your usual level of professionalism and dedication to your future endeavors.\n\nIf there are any immediate concerns or questions you feel need addressing, please don’t hesitate to reach out to me at any time. I am here to support you during this transition in any way I can.\n\nThank you once again for your understanding, professionalism, and the time and energy you've invested within this team.\n\nWith the utmost respect,\n\n[Your Name]\n[Your Position]\n[Company Name]"
          },
          "metadata": {}
        }
      ]
    }
  ]
}