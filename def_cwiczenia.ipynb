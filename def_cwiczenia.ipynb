{
  "nbformat": 4,
  "nbformat_minor": 0,
  "metadata": {
    "colab": {
      "provenance": [],
      "authorship_tag": "ABX9TyOMULbN7xiGLunE9nW1PgGS",
      "include_colab_link": true
    },
    "kernelspec": {
      "name": "python3",
      "display_name": "Python 3"
    },
    "language_info": {
      "name": "python"
    }
  },
  "cells": [
    {
      "cell_type": "markdown",
      "metadata": {
        "id": "view-in-github",
        "colab_type": "text"
      },
      "source": [
        "<a href=\"https://colab.research.google.com/github/kj1103/AI---testy/blob/main/def_cwiczenia.ipynb\" target=\"_parent\"><img src=\"https://colab.research.google.com/assets/colab-badge.svg\" alt=\"Open In Colab\"/></a>"
      ]
    },
    {
      "cell_type": "code",
      "execution_count": 11,
      "metadata": {
        "id": "o5D8tG9RhA9G"
      },
      "outputs": [],
      "source": [
        "y_true = [0, 0, 1, 1, 0, 1, 0]\n",
        "y_pred = [0, 0, 1, 0, 0, 1, 0]\n",
        "\n",
        "a = (sum(1 for yt, yp in zip(y_true, y_pred) if yt == yp))\n",
        "accuracy = a/len(y_true)\n",
        "#print(accuracy)\n",
        "\n",
        "def mae(y_true, y_pred):\n",
        "    return round(sum(abs(i - j) for i, j in zip(y_true, y_pred)) / len(y_true), 3)"
      ]
    },
    {
      "cell_type": "code",
      "source": [
        "y_true = [10, 10.5, 11.2, 10.4]\n",
        "y_pred = [10.2, 10.4, 10.8, 11.0]\n",
        "def mae(y_true, y_pred):\n",
        "    return round(sum(abs(i - j) for i, j in zip(y_true, y_pred)) / len(y_true), 3)\n",
        "mae(y_true,y_pred)"
      ],
      "metadata": {
        "colab": {
          "base_uri": "https://localhost:8080/"
        },
        "id": "zuAit7-plJ-E",
        "outputId": "c0e4011c-04b1-45aa-fdaa-45842b167bdf"
      },
      "execution_count": 13,
      "outputs": [
        {
          "output_type": "execute_result",
          "data": {
            "text/plain": [
              "0.325"
            ]
          },
          "metadata": {},
          "execution_count": 13
        }
      ]
    },
    {
      "cell_type": "code",
      "source": [
        "y_true = [10, 10.5, 11.2, 10.4]\n",
        "y_pred = [10.2, 10.4, 10.8, 11.0]\n",
        "\n",
        "def mse(y_true,y_pred):\n",
        "    return round(sum((i - j) ** 2 for i, j in zip(y_true, y_pred)) / len(y_true), 3)\n",
        "mse(y_true,y_pred)\n"
      ],
      "metadata": {
        "colab": {
          "base_uri": "https://localhost:8080/"
        },
        "id": "b6GUAs6nkZ9F",
        "outputId": "01c24571-ab69-4af5-ba99-e0428bd319ef"
      },
      "execution_count": 12,
      "outputs": [
        {
          "output_type": "execute_result",
          "data": {
            "text/plain": [
              "0.142"
            ]
          },
          "metadata": {},
          "execution_count": 12
        }
      ]
    },
    {
      "cell_type": "code",
      "source": [
        "def relu(x):\n",
        "    return max(0, x)"
      ],
      "metadata": {
        "id": "eAFI7KfilJMs"
      },
      "execution_count": null,
      "outputs": []
    },
    {
      "cell_type": "code",
      "source": [
        "items = [\n",
        "    [1, 2, 3],\n",
        "    [4, 5, 6],\n",
        "    [7, 8, 9]\n",
        "]\n",
        "\n",
        "def flatten(items):\n",
        "  return [item for sublist in items for item in sublist]\n",
        "flatten(items)"
      ],
      "metadata": {
        "colab": {
          "base_uri": "https://localhost:8080/"
        },
        "id": "z4gnRZW6lSRU",
        "outputId": "f1f96684-d582-4d7a-e6a4-b3c90af078c4"
      },
      "execution_count": 16,
      "outputs": [
        {
          "output_type": "execute_result",
          "data": {
            "text/plain": [
              "[1, 2, 3, 4, 5, 6, 7, 8, 9]"
            ]
          },
          "metadata": {},
          "execution_count": 16
        }
      ]
    },
    {
      "cell_type": "code",
      "source": [
        "numbers = [3, 4, 0, 2, 0, 5, 1, 6, 2]\n",
        "\n",
        "def transfer_zeros(lst):\n",
        "    result = []\n",
        "    counter = 0\n",
        "\n",
        "    for i in lst:\n",
        "        if i == 0:\n",
        "            counter += 1  # Liczymy zera\n",
        "        else:\n",
        "            result.append(i)  # Dodajemy niezerowe elementy\n",
        "\n",
        "    result.extend([0] * counter)  # Dodajemy wszystkie zera na koniec\n",
        "    return result\n",
        "\n",
        "# Przykładowe użycie:\n",
        "print(transfer_zeros(numbers))"
      ],
      "metadata": {
        "colab": {
          "base_uri": "https://localhost:8080/"
        },
        "id": "0PSzrdBcmSjV",
        "outputId": "27b534c2-6e1a-472a-f292-6c78a8bcf031"
      },
      "execution_count": 31,
      "outputs": [
        {
          "output_type": "stream",
          "name": "stdout",
          "text": [
            "[3, 4, 2, 5, 1, 6, 2, 0, 0]\n"
          ]
        }
      ]
    },
    {
      "cell_type": "code",
      "source": [
        "def euclidean_distance(x, y):\n",
        "    squared_diff = sum((a - b) ** 2 for a, b in zip(x, y))\n",
        "    return squared_diff ** 0.5"
      ],
      "metadata": {
        "id": "DU4XRu3h1Vte"
      },
      "execution_count": null,
      "outputs": []
    },
    {
      "cell_type": "code",
      "source": [
        "def arange(start, stop, step=1):\n",
        "    result = []\n",
        "    for i in range(start, stop, step):\n",
        "        result.append(i)\n",
        "    return result\n",
        "\n",
        "def arange(start, stop, step=1):\n",
        "    return list(range(start, stop, step))\n",
        "\n",
        "arange(2,4,1)"
      ],
      "metadata": {
        "colab": {
          "base_uri": "https://localhost:8080/"
        },
        "collapsed": true,
        "id": "E9NMfLPL1W9C",
        "outputId": "7e176adf-b2f8-43f1-b383-bd974d127fcb"
      },
      "execution_count": 11,
      "outputs": [
        {
          "output_type": "execute_result",
          "data": {
            "text/plain": [
              "[2, 3]"
            ]
          },
          "metadata": {},
          "execution_count": 11
        }
      ]
    },
    {
      "cell_type": "code",
      "source": [
        "def fill_value(height, width, value):\n",
        "    return [[value] * width for i in range(height)]\n",
        "\n",
        "fill_value(3,2,5)"
      ],
      "metadata": {
        "colab": {
          "base_uri": "https://localhost:8080/"
        },
        "id": "SfklYExI3s3n",
        "outputId": "deebb99b-b36e-4bdc-d21f-96ffe343cefe"
      },
      "execution_count": 7,
      "outputs": [
        {
          "output_type": "execute_result",
          "data": {
            "text/plain": [
              "[[5, 5], [5, 5], [5, 5]]"
            ]
          },
          "metadata": {},
          "execution_count": 7
        }
      ]
    },
    {
      "cell_type": "code",
      "source": [
        "def trace(array):\n",
        "    return sum(array[i][i] for i in range(len(array)))"
      ],
      "metadata": {
        "id": "RKW44bpdGhCO"
      },
      "execution_count": 12,
      "outputs": []
    },
    {
      "cell_type": "code",
      "source": [
        "def transpose(array):\n",
        "    return [\n",
        "        [array[j][i] for j in range(len(array))]\n",
        "        for i in range(len(array[0]))\n",
        "    ]\n",
        "\n",
        "transpose ([[1,2,3],\n",
        "          [3,3,1]])"
      ],
      "metadata": {
        "colab": {
          "base_uri": "https://localhost:8080/"
        },
        "id": "W6MvguOYGh60",
        "outputId": "6ffb71a8-ad82-428b-db25-7c7bb19bab03"
      },
      "execution_count": 17,
      "outputs": [
        {
          "output_type": "execute_result",
          "data": {
            "text/plain": [
              "[[1, 3], [2, 3], [3, 1]]"
            ]
          },
          "metadata": {},
          "execution_count": 17
        }
      ]
    },
    {
      "cell_type": "code",
      "source": [
        "def max_prob(array):\n",
        "    return [[max(item)] for item in array]"
      ],
      "metadata": {
        "id": "0NH_tizOHQHt"
      },
      "execution_count": null,
      "outputs": []
    },
    {
      "cell_type": "code",
      "source": [
        "def max_prob(a):\n",
        "    max_value = max(a)  # Znajdujemy maksymalną wartość\n",
        "    return [1 if i == max_value else 0 for i in a]  # Tworzymy listę z 1 tylko w miejscu max\n",
        "\n",
        "# Przykładowe użycie:\n",
        "a = [0.2, 0.3, 0.9, 0.21]\n",
        "print(max_prob(a))"
      ],
      "metadata": {
        "colab": {
          "base_uri": "https://localhost:8080/"
        },
        "id": "N76cOLrsHh0G",
        "outputId": "fe27b700-4619-4fa1-af1f-d38fb2303601"
      },
      "execution_count": 28,
      "outputs": [
        {
          "output_type": "stream",
          "name": "stdout",
          "text": [
            "[0, 0, 1, 0]\n"
          ]
        }
      ]
    },
    {
      "cell_type": "code",
      "source": [
        "b= ([1, None, None, 5, None, 2])\n",
        "\n",
        "def count_none(items):\n",
        "  return sum(1 for item in items if item is None)\n",
        "\n",
        "count_none(b)"
      ],
      "metadata": {
        "colab": {
          "base_uri": "https://localhost:8080/"
        },
        "id": "GMI95fPLUEv9",
        "outputId": "0373785a-7ce3-4f6a-c67d-754028956b2e"
      },
      "execution_count": 30,
      "outputs": [
        {
          "output_type": "execute_result",
          "data": {
            "text/plain": [
              "3"
            ]
          },
          "metadata": {},
          "execution_count": 30
        }
      ]
    },
    {
      "cell_type": "code",
      "source": [
        "list=([4, 5, 2, 9, 5, 2, 8, 2, 8, 10])\n",
        "n=2\n",
        "\n",
        "def top_n(items, n):\n",
        "    return sorted(items, reverse=True)[:n]\n",
        "\n",
        "top_n(list,n)\n"
      ],
      "metadata": {
        "colab": {
          "base_uri": "https://localhost:8080/"
        },
        "id": "Zjr4n4S5XVLI",
        "outputId": "46f171b6-af2c-4c8b-f78a-f37e8f70cd71"
      },
      "execution_count": 35,
      "outputs": [
        {
          "output_type": "execute_result",
          "data": {
            "text/plain": [
              "[10, 9]"
            ]
          },
          "metadata": {},
          "execution_count": 35
        }
      ]
    }
  ]
}